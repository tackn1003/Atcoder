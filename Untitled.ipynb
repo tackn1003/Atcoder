{
 "cells": [
  {
   "cell_type": "code",
   "execution_count": null,
   "metadata": {},
   "outputs": [],
   "source": [
    "T = input().split(\" \")\n",
    "s = T[0]\n",
    "\n",
    "a,b = map(int,input().split(\" \"))\n",
    "u = input()\n",
    "\n",
    "if s == u:\n",
    "  a += -1\n",
    "else:\n",
    "  b += -1\n",
    "\n",
    "print(\"{} {}\".format(a,b))"
   ]
  }
 ],
 "metadata": {
  "kernelspec": {
   "display_name": "Python 3",
   "language": "python",
   "name": "python3"
  },
  "language_info": {
   "codemirror_mode": {
    "name": "ipython",
    "version": 3
   },
   "file_extension": ".py",
   "mimetype": "text/x-python",
   "name": "python",
   "nbconvert_exporter": "python",
   "pygments_lexer": "ipython3",
   "version": "3.7.4"
  }
 },
 "nbformat": 4,
 "nbformat_minor": 2
}
